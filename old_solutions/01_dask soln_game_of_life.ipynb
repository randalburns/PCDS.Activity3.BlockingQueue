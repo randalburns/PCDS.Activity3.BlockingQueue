{
 "cells": [
  {
   "cell_type": "markdown",
   "metadata": {},
   "source": [
    "## Activity: dask game of life\n",
    "\n",
    "The goal of this assignment is to learn to program dask arrays with partitioned overlap for lock-step time-series simulation with geometric decomposition. This is a common paradigm for programming in the sciences.\n",
    "* dask arrays -- grid is partitioned into chunks\n",
    "* overlap -- chunks share boundary or ghost cells\n",
    "* lock-step time-series simulation -- every cell updates at every point in time. Same computation model as finite-difference simulation or direct numerical simulation.\n",
    "* geometric decomposition -- parallel programming lingo for breaking stuff into chunks, i.e. decompose the data which defines parallel tasks\n",
    "\n",
    "We will explore these issues in a simulation of cellular automata. Cellular automata are of wide interest. Wolfram puts forth that simple automata exhibit the complexity that underlies natural phenomena. This is tenet of the field of digital physics (http://en.wikipedia.org/wiki/Cellular_automata).\n",
    "\n",
    "To keep it simple, we will focus on Conway’s game of life. One of the earliest and best studied 2-d cellular automata.\n",
    "\n",
    "### Game of Life\n",
    "\n",
    "The following resources may be helpful in understanding the game of life.\n",
    "\n",
    "* http://psoup.math.wisc.edu/mcell/whatis_life.html gives a simple and intuitive description of the rules of Life and how to evaluate them on a grid. \n",
    "* http://www.bitstorm.org/gameoflife/ provides another description of the game of life. The applet there includes many common life patterns that you may use to evaluate your code. We will use the glider pattern\n",
    "\n",
    "### Demo without dask\n",
    "\n",
    "The following example shows the \"small exploder\" pattern run on a NumPy array. The function that evaluates the rules is designed so that it will work in a dask distributed implementation with one cell of overlap or one ghost cell.  More on this later.  For now, this function computes the rules for all internal cells."
   ]
  },
  {
   "cell_type": "code",
   "execution_count": null,
   "metadata": {},
   "outputs": [],
   "source": [
    "def rules_of_life(subgrid):\n",
    "    \"\"\"Evaluate the rules of life on a 2-d subarray.\n",
    "    The array should have an overlap of 1 cell in all dimension \n",
    "    and on the corner.\n",
    "    \n",
    "    Args:\n",
    "        subgrid (ndarray): Input array     \n",
    "\n",
    "    Returns:\n",
    "        outgrid (ndarray): Array updated by rules of life \n",
    "    \"\"\"\n",
    "    # we will receive an array with 1 dimension of padding\n",
    "    xdim, ydim = subgrid.shape\n",
    "    \n",
    "    # output array to keep updates\n",
    "    outgrid = np.zeros(shape=subgrid.shape, dtype=subgrid.dtype)\n",
    "    \n",
    "    # update only in center (non-overlapping) regaion\n",
    "    for x in range(1,xdim-1):\n",
    "        for y in range(1, ydim-1):\n",
    "            sum = subgrid[x-1,y-1] + subgrid[x,y-1] + subgrid[x+1,y-1] +\\\n",
    "                  subgrid[x-1,y]   + subgrid[x+1,y] +\\\n",
    "                  subgrid[x-1,y+1] + subgrid[x,y+1] + subgrid[x+1,y+1]\n",
    "            # three neighbors birth\n",
    "            if (sum == 3):\n",
    "                outgrid[x,y] = 1\n",
    "            # two neighbors no change\n",
    "            elif (sum == 2):\n",
    "                outgrid[x,y] = subgrid[x,y]\n",
    "            # <2 or >3 death\n",
    "            else:\n",
    "                outgrid[x,y] = 0 \n",
    "                    \n",
    "    return outgrid"
   ]
  },
  {
   "cell_type": "code",
   "execution_count": null,
   "metadata": {},
   "outputs": [],
   "source": [
    "import numpy as np\n",
    "\n",
    "# small_exploder pattern\n",
    "small_exploder = np.array([[0,1,0],[1,1,1],[1,0,1],[0,1,0]], dtype=np.uint8)"
   ]
  },
  {
   "cell_type": "code",
   "execution_count": null,
   "metadata": {},
   "outputs": [],
   "source": [
    "%matplotlib inline\n",
    "from matplotlib import pyplot as plt\n",
    "\n",
    "grid = np.zeros((16,16), dtype=np.uint8)\n",
    "grid[6:small_exploder.shape[0]+6,6:small_exploder.shape[1]+6] = small_exploder\n",
    "\n",
    "plt.imshow(grid, cmap='Greys', interpolation='nearest')\n",
    "plt.show()"
   ]
  },
  {
   "cell_type": "code",
   "execution_count": null,
   "metadata": {},
   "outputs": [],
   "source": [
    "%matplotlib inline\n",
    "from matplotlib import pyplot as plt\n",
    "\n",
    "\"\"\"mini-demo: no dask.  Start the small exploder in center and iterate.\"\"\"\n",
    "grid = np.zeros((16,16), dtype=np.uint8)\n",
    "grid[6:small_exploder.shape[0]+6,6:small_exploder.shape[1]+6] = small_exploder\n",
    "\n",
    "plt.imshow(grid, cmap='Greys', interpolation='nearest')\n",
    "plt.show()\n",
    "\n",
    "for i in range(20):\n",
    "    grid = rules_of_life(grid)\n",
    "    plt.imshow(grid, cmap='Greys', interpolation='nearest')\n",
    "    plt.show()"
   ]
  },
  {
   "cell_type": "markdown",
   "metadata": {},
   "source": [
    "### Ghost cells\n",
    "\n",
    "In the next steps, we are going to take a 16x16 grid and break it into 4 adjacent 8x8 grids. Because the rules of life requires neighbors, we are going to have to use _ghost cells_. This diagram (6x6) shows that the center of the chunk (green) is bordered by cells shared with one other chunk on the sides (blue) and cells shared with two other chunks on the corners (red).\n",
    "\n",
    "![this](https://www.olcf.ornl.gov/wp-content/uploads/2013/09/domainWithGhostZones.png)"
   ]
  },
  {
   "cell_type": "markdown",
   "metadata": {},
   "source": [
    "### Distributed Game of Life\n",
    "\n",
    "The exercise is to create a grid of 16x16 in 4 chunks with one cell of overlap in dask and then demonstrate that you can sucessfully transfer the glider from parallel chunks.  I have given you a NumPy array with the glider pattern.  The glider pattern will move down 1 and over 1 cell every four iterations.  Thus, it will return to it's original location every 64 iterations.  You must:\n",
    "* build a dask array of 4 8x8 chunks\n",
    "* iterate using the provided loop\n",
    "  * build an overlapping grid with cyclic boundary conditions\n",
    "  * apply the rules of life to each chunks\n",
    "  * trim the expanded chunks to their original 8x8 size "
   ]
  },
  {
   "cell_type": "code",
   "execution_count": null,
   "metadata": {},
   "outputs": [],
   "source": [
    "# glider pattern \n",
    "glider = np.array([[0,1,0],[0,0,1],[1,1,1]], dtype=np.uint8)\n",
    "plt.imshow(glider, cmap='Greys', interpolation='nearest')\n",
    "plt.show()"
   ]
  },
  {
   "cell_type": "code",
   "execution_count": null,
   "metadata": {},
   "outputs": [],
   "source": [
    "import dask.array as da\n",
    "\n",
    "# put the glider in the top corner of a 16x16 grid\n",
    "grid = np.zeros((16,16), dtype=np.uint8)\n",
    "grid[0:glider.shape[0],0:glider.shape[1]] = glider\n",
    "\n",
    "# TODO build a dask array of 4 8x8 chunks\n",
    "# dagrid = ...\n",
    "dagrid = da.from_array(grid, chunks=(8, 8))\n",
    "\n",
    "# display the grid metadata\n",
    "dagrid"
   ]
  },
  {
   "cell_type": "code",
   "execution_count": null,
   "metadata": {},
   "outputs": [],
   "source": [
    "# print the contents: see the glider\n",
    "plt.imshow(dagrid, cmap='Greys', interpolation='nearest')\n",
    "plt.show()"
   ]
  },
  {
   "cell_type": "code",
   "execution_count": null,
   "metadata": {},
   "outputs": [],
   "source": [
    "# 64 total iterations to repeat\n",
    "for i in range(16):\n",
    "    # glider shape repeats every 4 steps -- \n",
    "    for i in range(4):\n",
    "        \n",
    "        # define an overlapping region for stencil computations\n",
    "        ovgrid = da.overlap.overlap(dagrid, depth={0: 1, 1: 1},\n",
    "                      boundary={0: 'periodic', 1: 'periodic'})\n",
    "        \n",
    "        # update the overlapping grid in parallel\n",
    "        ovgrid = ovgrid.map_blocks(rules_of_life)\n",
    "        \n",
    "        # bring back to fully dense grid\n",
    "        dagrid = da.overlap.trim_internal(ovgrid, {0: 1, 1: 1})\n",
    "    \n",
    "    # print every fourth cycle -- should still look like a glider\n",
    "    plt.imshow(dagrid, cmap='Greys', interpolation='nearest')\n",
    "    plt.show()"
   ]
  },
  {
   "cell_type": "markdown",
   "metadata": {},
   "source": [
    "### Questions:\n",
    "    \n",
    "1. Why is it necessary to trim the chunks and rebuild the overlap? \n",
    " 1. Can you think of another way to do it without rebuilding the overlapping chunks?\n",
    " 2. Why is the dask approach _declarative_ and your answer to part A _imperative_ \n",
    "2. Why is must we convert a dask array to numpy before output?"
   ]
  },
  {
   "cell_type": "code",
   "execution_count": null,
   "metadata": {},
   "outputs": [],
   "source": []
  }
 ],
 "metadata": {
  "kernelspec": {
   "display_name": "Python 3",
   "language": "python",
   "name": "python3"
  },
  "language_info": {
   "codemirror_mode": {
    "name": "ipython",
    "version": 3
   },
   "file_extension": ".py",
   "mimetype": "text/x-python",
   "name": "python",
   "nbconvert_exporter": "python",
   "pygments_lexer": "ipython3",
   "version": "3.7.3"
  }
 },
 "nbformat": 4,
 "nbformat_minor": 4
}
